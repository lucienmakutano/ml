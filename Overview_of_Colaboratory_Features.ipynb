{
  "cells": [
    {
      "cell_type": "markdown",
      "metadata": {
        "id": "view-in-github",
        "colab_type": "text"
      },
      "source": [
        "<a href=\"https://colab.research.google.com/github/lucienmakutano/ml/blob/main/Overview_of_Colaboratory_Features.ipynb\" target=\"_parent\"><img src=\"https://colab.research.google.com/assets/colab-badge.svg\" alt=\"Open In Colab\"/></a>"
      ]
    },
    {
      "cell_type": "code",
      "execution_count": 89,
      "metadata": {
        "id": "JVXnTqyE9RET"
      },
      "outputs": [],
      "source": [
        "import numpy as np\n",
        "from matplotlib import pyplot as plt"
      ]
    },
    {
      "cell_type": "code",
      "source": [
        "rng = np.random.default_rng(seed=42)"
      ],
      "metadata": {
        "id": "ojoV9DVDajEo"
      },
      "execution_count": 14,
      "outputs": []
    },
    {
      "cell_type": "code",
      "source": [
        "x = rng.random((200,))\n",
        "y = rng.random((200,))"
      ],
      "metadata": {
        "id": "GmedrUk3bSWi"
      },
      "execution_count": 90,
      "outputs": []
    },
    {
      "cell_type": "code",
      "source": [
        "# plot the data points\n",
        "plt.scatter(x, y)\n",
        "plt.show()"
      ],
      "metadata": {
        "id": "ZX0ib2-6delC",
        "outputId": "31fed5fa-24a8-4ee1-8fba-a467b3156c7a",
        "colab": {
          "base_uri": "https://localhost:8080/",
          "height": 430
        }
      },
      "execution_count": 91,
      "outputs": [
        {
          "output_type": "display_data",
          "data": {
            "text/plain": [
              "<Figure size 640x480 with 1 Axes>"
            ],
            "image/png": "[encoded data removed]"
          },
          "metadata": {}
        }
      ]
    },
    {
      "cell_type": "code",
      "source": [
        "x_mean = np.mean(x)\n",
        "y_mean = np.mean(y)\n",
        "\n",
        "print(\"x_mean:\", x_mean)\n",
        "print(\"y_mean:\", y_mean)"
      ],
      "metadata": {
        "id": "A4VNBSpcd8zP",
        "outputId": "a0628ec6-7e1b-47ae-d88a-77176b3d3b53",
        "colab": {
          "base_uri": "https://localhost:8080/"
        }
      },
      "execution_count": 92,
      "outputs": [
        {
          "output_type": "stream",
          "name": "stdout",
          "text": [
            "x_mean: 0.4948669238348879\n",
            "y_mean: 0.48964187041270485\n"
          ]
        }
      ]
    },
    {
      "cell_type": "markdown",
      "source": [
        "# Slope\n",
        "m = (sum((x - x_mean) * (y - y_mean))) / (sum((x - x_mean) ** 2))"
      ],
      "metadata": {
        "id": "czaVqzOGjxJx"
      }
    },
    {
      "cell_type": "code",
      "source": [
        "num = np.sum((x - x_mean) * (y - y_mean))\n",
        "den = np.sum((x - x_mean) ** 2)\n",
        "m = num / den\n",
        "print(\"Slope:\", m)"
      ],
      "metadata": {
        "id": "Yzgf9U2ieJcK",
        "outputId": "a7e5a0be-fe7f-4caf-e273-4b0c99731e08",
        "colab": {
          "base_uri": "https://localhost:8080/"
        }
      },
      "execution_count": 93,
      "outputs": [
        {
          "output_type": "stream",
          "name": "stdout",
          "text": [
            "Slope: -0.01510146984937024\n"
          ]
        }
      ]
    },
    {
      "cell_type": "markdown",
      "source": [
        "## Bias coefficient\n",
        "c = y_mean - m * x_mean"
      ],
      "metadata": {
        "id": "Y_NgKXQ_kH-a"
      }
    },
    {
      "cell_type": "code",
      "source": [
        "c = y_mean - m * x_mean\n",
        "print(\"Y-intercept:\", c)"
      ],
      "metadata": {
        "id": "rWAeRt5mgbkl",
        "outputId": "fe330073-db32-4e21-f687-0c21b934a874",
        "colab": {
          "base_uri": "https://localhost:8080/"
        }
      },
      "execution_count": 94,
      "outputs": [
        {
          "output_type": "stream",
          "name": "stdout",
          "text": [
            "Y-intercept: 0.497115088342448\n"
          ]
        }
      ]
    },
    {
      "cell_type": "code",
      "source": [
        "y_pred = m * x + c\n",
        "for i in range(len(x)):\n",
        "    print(\"x =\", x[i], \", y =\", y[i], \", y_pred =\", round(y_pred[i], 2))\n",
        "    break"
      ],
      "metadata": {
        "id": "N0Ce9R1KnZ9o",
        "outputId": "c4ee8f08-eb84-4e6d-df0c-34619a139cee",
        "colab": {
          "base_uri": "https://localhost:8080/"
        }
      },
      "execution_count": 95,
      "outputs": [
        {
          "output_type": "stream",
          "name": "stdout",
          "text": [
            "x = 0.3019273914424916 , y = 0.4775058736277328 , y_pred = 0.49\n"
          ]
        }
      ]
    },
    {
      "cell_type": "code",
      "source": [
        "mse = 1/200 * np.sum((y_pred - y) ** 2)\n",
        "mse"
      ],
      "metadata": {
        "id": "FiYx92wBpUOb",
        "outputId": "5b599343-548b-47d5-9fae-e1552b2e26af",
        "colab": {
          "base_uri": "https://localhost:8080/"
        }
      },
      "execution_count": 96,
      "outputs": [
        {
          "output_type": "execute_result",
          "data": {
            "text/plain": [
              "0.09000814714184144"
            ]
          },
          "metadata": {},
          "execution_count": 96
        }
      ]
    },
    {
      "cell_type": "code",
      "source": [
        "dm = 2/200 * np.sum((y_pred - y) * x)\n",
        "dm"
      ],
      "metadata": {
        "id": "wjGjWqqjquE-",
        "outputId": "d5221be8-60fa-47fc-9e6d-ad96a2ad887d",
        "colab": {
          "base_uri": "https://localhost:8080/"
        }
      },
      "execution_count": 97,
      "outputs": [
        {
          "output_type": "execute_result",
          "data": {
            "text/plain": [
              "1.3322676295501878e-17"
            ]
          },
          "metadata": {},
          "execution_count": 97
        }
      ]
    },
    {
      "cell_type": "code",
      "source": [
        "dc = 2/200 * np.sum(y_pred - y)\n",
        "dc"
      ],
      "metadata": {
        "id": "tqtF22aOua1U",
        "outputId": "ac813a4a-1609-49bd-f86d-eb58b38d3895",
        "colab": {
          "base_uri": "https://localhost:8080/"
        }
      },
      "execution_count": 98,
      "outputs": [
        {
          "output_type": "execute_result",
          "data": {
            "text/plain": [
              "3.552713678800501e-17"
            ]
          },
          "metadata": {},
          "execution_count": 98
        }
      ]
    },
    {
      "cell_type": "code",
      "source": [
        "alpha = 0.001"
      ],
      "metadata": {
        "id": "rAFfMrX-vc0R"
      },
      "execution_count": 99,
      "outputs": []
    },
    {
      "cell_type": "code",
      "source": [],
      "metadata": {
        "id": "9t0sVPY0vkie"
      },
      "execution_count": 99,
      "outputs": []
    },
    {
      "cell_type": "markdown",
      "source": [
        "# [Linear Regression using Gradient D](https://towardsdatascience.com/linear-regression-using-gradient-descent-97a6c8700931)"
      ],
      "metadata": {
        "id": "f5zV5R6593BM"
      }
    },
    {
      "cell_type": "code",
      "source": [
        "def linear_regression_using_GD():\n",
        "\n",
        "  rng = np.random.default_rng()\n",
        "\n",
        "  X = rng.random((200,))\n",
        "  Y = rng.random((200,))\n",
        "\n",
        "  m = 0\n",
        "  c = 0\n",
        "\n",
        "  n = float(len(X))\n",
        "\n",
        "  alpha = 0.0001 # learning rate\n",
        "  num_itrs = 1000\n",
        "\n",
        "  MSEs, Slope, Bias = [], [], []\n",
        "\n",
        "  for i in range(num_itrs):\n",
        "      Y_pred = m * X + c\n",
        "\n",
        "      dm = 2/n * np.sum((Y_pred - Y) * X)\n",
        "      dc = 2/n * np.sum(Y_pred - Y)\n",
        "      mse = 1/n * np.sum((Y_pred - Y) ** 2)\n",
        "\n",
        "      MSEs.append(mse)\n",
        "      Slope.append(m)\n",
        "      Bias.append(c)\n",
        "\n",
        "      m = m - alpha * dm\n",
        "      c = c - alpha * dc\n",
        "  return m, c, X, Y\n",
        "\n",
        "m, c, X, Y = linear_regression_using_GD()\n",
        "print(f\"Slope: {m}\\nBias: {c}\")"
      ],
      "metadata": {
        "id": "YkG7jQ1dvoJV",
        "outputId": "a43ce2ac-1f53-460c-aadf-45792db39454",
        "colab": {
          "base_uri": "https://localhost:8080/"
        }
      },
      "execution_count": 104,
      "outputs": [
        {
          "output_type": "stream",
          "name": "stdout",
          "text": [
            "Slope: 0.04688632204207975\n",
            "Bias: 0.08932716977461902\n"
          ]
        }
      ]
    },
    {
      "cell_type": "code",
      "source": [
        "Y_pred = m*X + c\n",
        "\n",
        "plt.scatter(X, Y) \n",
        "plt.plot([min(X), max(X)], [min(Y_pred), max(Y_pred)], color='red')  # regression line\n",
        "plt.show()"
      ],
      "metadata": {
        "id": "YLPNI8mdxavp",
        "outputId": "05a23e4f-5a38-4365-dd9e-689e22115a84",
        "colab": {
          "base_uri": "https://localhost:8080/",
          "height": 430
        }
      },
      "execution_count": 105,
      "outputs": [
        {
          "output_type": "display_data",
          "data": {
            "text/plain": [
              "<Figure size 640x480 with 1 Axes>"
            ],
            "image/png": "[encoded data removed]"
          },
          "metadata": {}
        }
      ]
    },
    {
      "cell_type": "code",
      "source": [],
      "metadata": {
        "id": "mnvtzJyP9aZF"
      },
      "execution_count": null,
      "outputs": []
    }
  ],
  "metadata": {
    "colab": {
      "name": "Overview of Colaboratory Features",
      "toc_visible": true,
      "provenance": [],
      "include_colab_link": true
    },
    "kernelspec": {
      "display_name": "Python 3",
      "name": "python3"
    }
  },
  "nbformat": 4,
  "nbformat_minor": 0
}